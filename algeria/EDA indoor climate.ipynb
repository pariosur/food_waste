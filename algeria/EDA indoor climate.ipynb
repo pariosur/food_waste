{
 "cells": [
  {
   "cell_type": "markdown",
   "id": "ee5862db",
   "metadata": {},
   "source": [
    "# Internal Factors Greenhouse - Exploratory Data Analysis"
   ]
  },
  {
   "cell_type": "markdown",
   "id": "466a9611",
   "metadata": {},
   "source": [
    "## Objective"
   ]
  },
  {
   "cell_type": "markdown",
   "id": "323e926e",
   "metadata": {},
   "source": [
    "Explore 'The Reference' dataset represented by a group of Dutch commercial Tomato growers. \n",
    "Observe the behaviour of 6 selected internal conditions of the 'Greenhouse Climate' and calculate the correlation between them. "
   ]
  },
  {
   "cell_type": "markdown",
   "id": "ecc8568b",
   "metadata": {},
   "source": [
    "## Import Packages and Data"
   ]
  },
  {
   "cell_type": "code",
   "execution_count": 58,
   "id": "5c8cd7a6",
   "metadata": {},
   "outputs": [
    {
     "name": "stderr",
     "output_type": "stream",
     "text": [
      "/home/proctor/.pyenv/versions/3.8.12/envs/lewagon/lib/python3.8/site-packages/statsmodels/compat/pandas.py:65: FutureWarning: pandas.Int64Index is deprecated and will be removed from pandas in a future version. Use pandas.Index with the appropriate dtype instead.\n",
      "  from pandas import Int64Index as NumericIndex\n"
     ]
    }
   ],
   "source": [
    "import pandas_datareader as pdr\n",
    "import pandas as pd\n",
    "import numpy as np\n",
    "import matplotlib as plt\n",
    "import seaborn as sns\n",
    "from datetime import datetime\n",
    "import scipy\n",
    "from statsmodels.tsa.stattools import acf, pacf\n",
    "from statsmodels.graphics.tsaplots import plot_acf, plot_pacf"
   ]
  },
  {
   "cell_type": "code",
   "execution_count": 19,
   "id": "ea69bd36",
   "metadata": {
    "scrolled": false
   },
   "outputs": [
    {
     "name": "stderr",
     "output_type": "stream",
     "text": [
      "/tmp/ipykernel_10331/2083090870.py:1: DtypeWarning: Columns (1,2,3,4,5,6,7,8,9,10,11,12,14,15,17,18,20,22,23,25,27,29,31,33,35,37,39,41,43,44,45,47,49) have mixed types. Specify dtype option on import or set low_memory=False.\n",
      "  df_ref_greenhouse = pd.read_csv('Reference/GreenhouseClimate.csv')\n"
     ]
    }
   ],
   "source": [
    "df_ref_greenhouse = pd.read_csv('Reference/GreenhouseClimate.csv')"
   ]
  },
  {
   "cell_type": "code",
   "execution_count": 20,
   "id": "07484129",
   "metadata": {
    "scrolled": true
   },
   "outputs": [
    {
     "data": {
      "text/html": [
       "<div>\n",
       "<style scoped>\n",
       "    .dataframe tbody tr th:only-of-type {\n",
       "        vertical-align: middle;\n",
       "    }\n",
       "\n",
       "    .dataframe tbody tr th {\n",
       "        vertical-align: top;\n",
       "    }\n",
       "\n",
       "    .dataframe thead th {\n",
       "        text-align: right;\n",
       "    }\n",
       "</style>\n",
       "<table border=\"1\" class=\"dataframe\">\n",
       "  <thead>\n",
       "    <tr style=\"text-align: right;\">\n",
       "      <th></th>\n",
       "      <th>%time</th>\n",
       "      <th>AssimLight</th>\n",
       "      <th>BlackScr</th>\n",
       "      <th>CO2air</th>\n",
       "      <th>Cum_irr</th>\n",
       "      <th>EC_drain_PC</th>\n",
       "      <th>EnScr</th>\n",
       "      <th>HumDef</th>\n",
       "      <th>PipeGrow</th>\n",
       "      <th>PipeLow</th>\n",
       "      <th>...</th>\n",
       "      <th>t_rail_min_vip</th>\n",
       "      <th>t_vent_sp</th>\n",
       "      <th>t_ventlee_vip</th>\n",
       "      <th>t_ventwind_vip</th>\n",
       "      <th>water_sup</th>\n",
       "      <th>water_sup_intervals_sp_min</th>\n",
       "      <th>water_sup_intervals_vip_min</th>\n",
       "      <th>window_pos_lee_sp</th>\n",
       "      <th>window_pos_lee_vip</th>\n",
       "      <th>datetime</th>\n",
       "    </tr>\n",
       "  </thead>\n",
       "  <tbody>\n",
       "    <tr>\n",
       "      <th>0</th>\n",
       "      <td>43815.00000</td>\n",
       "      <td>0</td>\n",
       "      <td>35</td>\n",
       "      <td>472</td>\n",
       "      <td>0.4</td>\n",
       "      <td>4.0</td>\n",
       "      <td>100</td>\n",
       "      <td>7.2</td>\n",
       "      <td>0.0</td>\n",
       "      <td>45.2</td>\n",
       "      <td>...</td>\n",
       "      <td>0.0</td>\n",
       "      <td>NaN</td>\n",
       "      <td>25.0</td>\n",
       "      <td>26.0</td>\n",
       "      <td>4.0</td>\n",
       "      <td>NaN</td>\n",
       "      <td>1000</td>\n",
       "      <td>NaN</td>\n",
       "      <td>1.2</td>\n",
       "      <td>2019-12-16 00:00:00.000000000</td>\n",
       "    </tr>\n",
       "    <tr>\n",
       "      <th>1</th>\n",
       "      <td>43815.00347</td>\n",
       "      <td>0</td>\n",
       "      <td>85</td>\n",
       "      <td>501</td>\n",
       "      <td>0.5</td>\n",
       "      <td>4.0</td>\n",
       "      <td>100</td>\n",
       "      <td>6.9</td>\n",
       "      <td>0.0</td>\n",
       "      <td>43.6</td>\n",
       "      <td>...</td>\n",
       "      <td>0.0</td>\n",
       "      <td>NaN</td>\n",
       "      <td>25.0</td>\n",
       "      <td>26.0</td>\n",
       "      <td>6.0</td>\n",
       "      <td>NaN</td>\n",
       "      <td>1000</td>\n",
       "      <td>NaN</td>\n",
       "      <td>1.2</td>\n",
       "      <td>2019-12-16 00:04:59.808000256</td>\n",
       "    </tr>\n",
       "    <tr>\n",
       "      <th>2</th>\n",
       "      <td>43815.00694</td>\n",
       "      <td>0</td>\n",
       "      <td>96</td>\n",
       "      <td>489</td>\n",
       "      <td>0.5</td>\n",
       "      <td>4.0</td>\n",
       "      <td>100</td>\n",
       "      <td>7.2</td>\n",
       "      <td>0.0</td>\n",
       "      <td>42.3</td>\n",
       "      <td>...</td>\n",
       "      <td>0.0</td>\n",
       "      <td>NaN</td>\n",
       "      <td>25.0</td>\n",
       "      <td>26.0</td>\n",
       "      <td>6.0</td>\n",
       "      <td>NaN</td>\n",
       "      <td>1000</td>\n",
       "      <td>NaN</td>\n",
       "      <td>1.2</td>\n",
       "      <td>2019-12-16 00:09:59.616000000</td>\n",
       "    </tr>\n",
       "    <tr>\n",
       "      <th>3</th>\n",
       "      <td>43815.01042</td>\n",
       "      <td>0</td>\n",
       "      <td>96</td>\n",
       "      <td>497</td>\n",
       "      <td>0.5</td>\n",
       "      <td>4.0</td>\n",
       "      <td>100</td>\n",
       "      <td>6.7</td>\n",
       "      <td>0.0</td>\n",
       "      <td>41.2</td>\n",
       "      <td>...</td>\n",
       "      <td>0.0</td>\n",
       "      <td>NaN</td>\n",
       "      <td>25.0</td>\n",
       "      <td>26.0</td>\n",
       "      <td>6.0</td>\n",
       "      <td>NaN</td>\n",
       "      <td>1000</td>\n",
       "      <td>NaN</td>\n",
       "      <td>1.2</td>\n",
       "      <td>2019-12-16 00:15:00.288000000</td>\n",
       "    </tr>\n",
       "    <tr>\n",
       "      <th>4</th>\n",
       "      <td>43815.01389</td>\n",
       "      <td>0</td>\n",
       "      <td>96</td>\n",
       "      <td>477</td>\n",
       "      <td>0.5</td>\n",
       "      <td>4.0</td>\n",
       "      <td>100</td>\n",
       "      <td>6.7</td>\n",
       "      <td>0.0</td>\n",
       "      <td>41.2</td>\n",
       "      <td>...</td>\n",
       "      <td>0.0</td>\n",
       "      <td>NaN</td>\n",
       "      <td>25.0</td>\n",
       "      <td>26.0</td>\n",
       "      <td>6.0</td>\n",
       "      <td>NaN</td>\n",
       "      <td>1000</td>\n",
       "      <td>NaN</td>\n",
       "      <td>1.2</td>\n",
       "      <td>2019-12-16 00:20:00.096000256</td>\n",
       "    </tr>\n",
       "  </tbody>\n",
       "</table>\n",
       "<p>5 rows × 51 columns</p>\n",
       "</div>"
      ],
      "text/plain": [
       "         %time AssimLight BlackScr CO2air Cum_irr EC_drain_PC EnScr HumDef  \\\n",
       "0  43815.00000          0       35    472     0.4         4.0   100    7.2   \n",
       "1  43815.00347          0       85    501     0.5         4.0   100    6.9   \n",
       "2  43815.00694          0       96    489     0.5         4.0   100    7.2   \n",
       "3  43815.01042          0       96    497     0.5         4.0   100    6.7   \n",
       "4  43815.01389          0       96    477     0.5         4.0   100    6.7   \n",
       "\n",
       "  PipeGrow PipeLow  ... t_rail_min_vip t_vent_sp t_ventlee_vip  \\\n",
       "0      0.0    45.2  ...            0.0       NaN          25.0   \n",
       "1      0.0    43.6  ...            0.0       NaN          25.0   \n",
       "2      0.0    42.3  ...            0.0       NaN          25.0   \n",
       "3      0.0    41.2  ...            0.0       NaN          25.0   \n",
       "4      0.0    41.2  ...            0.0       NaN          25.0   \n",
       "\n",
       "   t_ventwind_vip water_sup water_sup_intervals_sp_min  \\\n",
       "0            26.0       4.0                        NaN   \n",
       "1            26.0       6.0                        NaN   \n",
       "2            26.0       6.0                        NaN   \n",
       "3            26.0       6.0                        NaN   \n",
       "4            26.0       6.0                        NaN   \n",
       "\n",
       "  water_sup_intervals_vip_min window_pos_lee_sp window_pos_lee_vip  \\\n",
       "0                        1000               NaN                1.2   \n",
       "1                        1000               NaN                1.2   \n",
       "2                        1000               NaN                1.2   \n",
       "3                        1000               NaN                1.2   \n",
       "4                        1000               NaN                1.2   \n",
       "\n",
       "                       datetime  \n",
       "0 2019-12-16 00:00:00.000000000  \n",
       "1 2019-12-16 00:04:59.808000256  \n",
       "2 2019-12-16 00:09:59.616000000  \n",
       "3 2019-12-16 00:15:00.288000000  \n",
       "4 2019-12-16 00:20:00.096000256  \n",
       "\n",
       "[5 rows x 51 columns]"
      ]
     },
     "execution_count": 20,
     "metadata": {},
     "output_type": "execute_result"
    }
   ],
   "source": [
    "df_ref_greenhouse['datetime']=pd.to_datetime(df_ref_greenhouse['%time'], unit='D', origin='1899-12-30')\n",
    "df_ref_greenhouse.head()"
   ]
  },
  {
   "cell_type": "code",
   "execution_count": 25,
   "id": "ed7ddeae",
   "metadata": {},
   "outputs": [
    {
     "name": "stderr",
     "output_type": "stream",
     "text": [
      "/tmp/ipykernel_10331/370196411.py:1: FutureWarning: Treating datetime data as categorical rather than numeric in `.describe` is deprecated and will be removed in a future version of pandas. Specify `datetime_is_numeric=True` to silence this warning and adopt the future behavior now.\n",
      "  df_ref_greenhouse['datetime'].describe()\n"
     ]
    },
    {
     "data": {
      "text/plain": [
       "count                   47809\n",
       "unique                  47809\n",
       "top       2019-12-16 00:00:00\n",
       "freq                        1\n",
       "first     2019-12-16 00:00:00\n",
       "last      2020-05-30 00:00:00\n",
       "Name: datetime, dtype: object"
      ]
     },
     "execution_count": 25,
     "metadata": {},
     "output_type": "execute_result"
    }
   ],
   "source": [
    "df_ref_greenhouse['datetime'].describe()"
   ]
  },
  {
   "cell_type": "code",
   "execution_count": 22,
   "id": "e2c3c808",
   "metadata": {},
   "outputs": [
    {
     "data": {
      "text/html": [
       "<div>\n",
       "<style scoped>\n",
       "    .dataframe tbody tr th:only-of-type {\n",
       "        vertical-align: middle;\n",
       "    }\n",
       "\n",
       "    .dataframe tbody tr th {\n",
       "        vertical-align: top;\n",
       "    }\n",
       "\n",
       "    .dataframe thead th {\n",
       "        text-align: right;\n",
       "    }\n",
       "</style>\n",
       "<table border=\"1\" class=\"dataframe\">\n",
       "  <thead>\n",
       "    <tr style=\"text-align: right;\">\n",
       "      <th></th>\n",
       "      <th>datetime</th>\n",
       "      <th>Tair</th>\n",
       "      <th>Rhair</th>\n",
       "      <th>CO2air</th>\n",
       "      <th>water_sup</th>\n",
       "      <th>Cum_irr</th>\n",
       "      <th>Tot_PAR</th>\n",
       "    </tr>\n",
       "  </thead>\n",
       "  <tbody>\n",
       "    <tr>\n",
       "      <th>0</th>\n",
       "      <td>2019-12-16 00:00:00.000000000</td>\n",
       "      <td>20.9</td>\n",
       "      <td>60.6</td>\n",
       "      <td>472</td>\n",
       "      <td>4.0</td>\n",
       "      <td>0.4</td>\n",
       "      <td>0</td>\n",
       "    </tr>\n",
       "    <tr>\n",
       "      <th>1</th>\n",
       "      <td>2019-12-16 00:04:59.808000256</td>\n",
       "      <td>20.7</td>\n",
       "      <td>61.4</td>\n",
       "      <td>501</td>\n",
       "      <td>6.0</td>\n",
       "      <td>0.5</td>\n",
       "      <td>0</td>\n",
       "    </tr>\n",
       "    <tr>\n",
       "      <th>2</th>\n",
       "      <td>2019-12-16 00:09:59.616000000</td>\n",
       "      <td>21.2</td>\n",
       "      <td>60.9</td>\n",
       "      <td>489</td>\n",
       "      <td>6.0</td>\n",
       "      <td>0.5</td>\n",
       "      <td>0</td>\n",
       "    </tr>\n",
       "    <tr>\n",
       "      <th>3</th>\n",
       "      <td>2019-12-16 00:15:00.288000000</td>\n",
       "      <td>20.7</td>\n",
       "      <td>62.5</td>\n",
       "      <td>497</td>\n",
       "      <td>6.0</td>\n",
       "      <td>0.5</td>\n",
       "      <td>0</td>\n",
       "    </tr>\n",
       "    <tr>\n",
       "      <th>4</th>\n",
       "      <td>2019-12-16 00:20:00.096000256</td>\n",
       "      <td>20.7</td>\n",
       "      <td>62.7</td>\n",
       "      <td>477</td>\n",
       "      <td>6.0</td>\n",
       "      <td>0.5</td>\n",
       "      <td>0</td>\n",
       "    </tr>\n",
       "  </tbody>\n",
       "</table>\n",
       "</div>"
      ],
      "text/plain": [
       "                       datetime  Tair Rhair CO2air water_sup Cum_irr Tot_PAR\n",
       "0 2019-12-16 00:00:00.000000000  20.9  60.6    472       4.0     0.4       0\n",
       "1 2019-12-16 00:04:59.808000256  20.7  61.4    501       6.0     0.5       0\n",
       "2 2019-12-16 00:09:59.616000000  21.2  60.9    489       6.0     0.5       0\n",
       "3 2019-12-16 00:15:00.288000000  20.7  62.5    497       6.0     0.5       0\n",
       "4 2019-12-16 00:20:00.096000256  20.7  62.7    477       6.0     0.5       0"
      ]
     },
     "execution_count": 22,
     "metadata": {},
     "output_type": "execute_result"
    }
   ],
   "source": [
    "df_ref_greenhouse_final = df_ref_greenhouse[['datetime','Tair', 'Rhair','CO2air','water_sup','Cum_irr','Tot_PAR']]\n",
    "df_ref_greenhouse_final.head()"
   ]
  },
  {
   "cell_type": "code",
   "execution_count": 28,
   "id": "b0021f07",
   "metadata": {},
   "outputs": [
    {
     "data": {
      "text/plain": [
       "Index(['datetime', 'Tair', 'Rhair', 'CO2air', 'water_sup', 'Cum_irr',\n",
       "       'Tot_PAR'],\n",
       "      dtype='object')"
      ]
     },
     "execution_count": 28,
     "metadata": {},
     "output_type": "execute_result"
    }
   ],
   "source": [
    "df_ref_greenhouse_final.columns"
   ]
  },
  {
   "cell_type": "code",
   "execution_count": 36,
   "id": "053b30c4",
   "metadata": {},
   "outputs": [
    {
     "name": "stderr",
     "output_type": "stream",
     "text": [
      "/tmp/ipykernel_10331/1211084275.py:3: SettingWithCopyWarning: \n",
      "A value is trying to be set on a copy of a slice from a DataFrame.\n",
      "Try using .loc[row_indexer,col_indexer] = value instead\n",
      "\n",
      "See the caveats in the documentation: https://pandas.pydata.org/pandas-docs/stable/user_guide/indexing.html#returning-a-view-versus-a-copy\n",
      "  df_ref_greenhouse_final[cols] = df_ref_greenhouse_final[cols].apply(pd.to_numeric, errors='coerce', axis=1)\n"
     ]
    }
   ],
   "source": [
    "#Convert columns to Float\n",
    "cols = ['Tair', 'Rhair', 'CO2air', 'water_sup', 'Cum_irr','Tot_PAR']\n",
    "df_ref_greenhouse_final[cols] = df_ref_greenhouse_final[cols].apply(pd.to_numeric, errors='coerce', axis=1)"
   ]
  },
  {
   "cell_type": "code",
   "execution_count": 77,
   "id": "70e4b2bf",
   "metadata": {},
   "outputs": [
    {
     "name": "stdout",
     "output_type": "stream",
     "text": [
      "<class 'pandas.core.frame.DataFrame'>\n",
      "RangeIndex: 47809 entries, 0 to 47808\n",
      "Data columns (total 7 columns):\n",
      " #   Column     Non-Null Count  Dtype         \n",
      "---  ------     --------------  -----         \n",
      " 0   datetime   47809 non-null  datetime64[ns]\n",
      " 1   Tair       47738 non-null  float64       \n",
      " 2   Rhair      47809 non-null  float64       \n",
      " 3   CO2air     47738 non-null  float64       \n",
      " 4   water_sup  47738 non-null  float64       \n",
      " 5   Cum_irr    47738 non-null  float64       \n",
      " 6   Tot_PAR    47738 non-null  float64       \n",
      "dtypes: datetime64[ns](1), float64(6)\n",
      "memory usage: 2.6 MB\n"
     ]
    }
   ],
   "source": [
    "df_ref_greenhouse_final.info()"
   ]
  },
  {
   "cell_type": "markdown",
   "id": "dd950f3a",
   "metadata": {},
   "source": [
    "## Internal Conditions"
   ]
  },
  {
   "cell_type": "code",
   "execution_count": 215,
   "id": "a945de0c",
   "metadata": {},
   "outputs": [
    {
     "data": {
      "image/png": "[encoded data removed]",
      "text/plain": [
       "<Figure size 1080x864 with 6 Axes>"
      ]
     },
     "metadata": {
      "needs_background": "light"
     },
     "output_type": "display_data"
    }
   ],
   "source": [
    "import matplotlib.pyplot as plt\n",
    "from matplotlib.pyplot import figure\n",
    "\n",
    "\n",
    "fig, ax = plt.subplots(3, 2)\n",
    "fig.set_size_inches(15, 12)\n",
    "fig.suptitle('Greenhouse Climate', fontsize=16)\n",
    "ax[0, 0].plot(df_ref_greenhouse_final['Tair'], 'red')\n",
    "ax[0,0].set_title('Greenhouse Air temperature')\n",
    "ax[0,0].set_ylabel('°C ')\n",
    "\n",
    "ax[1, 0].plot(df_ref_greenhouse_final['Rhair'], 'blue') \n",
    "ax[1,0].set_title('Greenhouse relative humidity ')\n",
    "ax[1,0].set_ylabel('% ')\n",
    "\n",
    "ax[0, 1].plot(df_ref_greenhouse_final['CO2air'], 'green')\n",
    "ax[0,1].set_title('CO2 greenhouse')\n",
    "ax[0,1].set_ylabel('ppm')\n",
    "\n",
    "ax[1, 1].plot(df_ref_greenhouse_final['water_sup'], 'purple') \n",
    "ax[1,1].set_title('Cumulative number of minutes of irrigation in a day')\n",
    "ax[1,1].set_ylabel('minutes')\n",
    "ax[2, 0].plot(df_ref_greenhouse_final['Cum_irr'], 'orange') \n",
    "ax[2,0].set_title('Cumulative number of litres of irrigation in a day')\n",
    "ax[2,0].set_ylabel('L/m² day')\n",
    "ax[2, 1].plot(df_ref_greenhouse_final['Tot_PAR'], 'pink') \n",
    "ax[2,1].set_title('PAR sum from HPS and LED lamps')\n",
    "ax[2,1].set_ylabel('µmol/m² s ')\n",
    "\n",
    "plt.show()"
   ]
  },
  {
   "cell_type": "markdown",
   "id": "10446e7f",
   "metadata": {},
   "source": [
    "## Correlation between variables"
   ]
  },
  {
   "cell_type": "code",
   "execution_count": 206,
   "id": "39f1b32d",
   "metadata": {
    "scrolled": false
   },
   "outputs": [
    {
     "name": "stderr",
     "output_type": "stream",
     "text": [
      "/tmp/ipykernel_10331/3276346126.py:1: FutureWarning: The default value of numeric_only in DataFrame.corr is deprecated. In a future version, it will default to False. Select only valid columns or specify the value of numeric_only to silence this warning.\n",
      "  dataplot = sns.heatmap(df_ref_greenhouse_final.corr(), cmap=\"YlGnBu\", annot=True)\n"
     ]
    },
    {
     "data": {
      "image/png": "[encoded data removed]",
      "text/plain": [
       "<Figure size 432x288 with 2 Axes>"
      ]
     },
     "metadata": {
      "needs_background": "light"
     },
     "output_type": "display_data"
    }
   ],
   "source": [
    "dataplot = sns.heatmap(df_ref_greenhouse_final.corr(), cmap=\"YlGnBu\", annot=True)\n"
   ]
  },
  {
   "cell_type": "code",
   "execution_count": null,
   "id": "919d0c1b",
   "metadata": {},
   "outputs": [],
   "source": []
  },
  {
   "cell_type": "code",
   "execution_count": null,
   "id": "eeee5898",
   "metadata": {},
   "outputs": [],
   "source": []
  },
  {
   "cell_type": "code",
   "execution_count": null,
   "id": "f037fc9b",
   "metadata": {},
   "outputs": [],
   "source": []
  },
  {
   "cell_type": "code",
   "execution_count": null,
   "id": "2ae77aca",
   "metadata": {},
   "outputs": [],
   "source": []
  },
  {
   "cell_type": "code",
   "execution_count": null,
   "id": "4337b224",
   "metadata": {},
   "outputs": [],
   "source": []
  },
  {
   "cell_type": "code",
   "execution_count": null,
   "id": "b56d859e",
   "metadata": {},
   "outputs": [],
   "source": []
  },
  {
   "cell_type": "code",
   "execution_count": null,
   "id": "145b9e31",
   "metadata": {},
   "outputs": [],
   "source": []
  },
  {
   "cell_type": "code",
   "execution_count": null,
   "id": "1f94f4a5",
   "metadata": {},
   "outputs": [],
   "source": []
  },
  {
   "cell_type": "code",
   "execution_count": null,
   "id": "8fcc7e3e",
   "metadata": {},
   "outputs": [],
   "source": []
  },
  {
   "cell_type": "code",
   "execution_count": null,
   "id": "d271c335",
   "metadata": {},
   "outputs": [],
   "source": []
  },
  {
   "cell_type": "markdown",
   "id": "ca57ef0e",
   "metadata": {},
   "source": [
    "## Stationarity - ADF Test"
   ]
  },
  {
   "cell_type": "code",
   "execution_count": 155,
   "id": "c2cc333f",
   "metadata": {},
   "outputs": [
    {
     "data": {
      "text/plain": [
       "count    47738.000000\n",
       "mean        22.713505\n",
       "std          3.920410\n",
       "min         -1.000000\n",
       "25%         20.000000\n",
       "50%         22.800000\n",
       "75%         26.400000\n",
       "max         34.300000\n",
       "Name: Tair, dtype: float64"
      ]
     },
     "execution_count": 155,
     "metadata": {},
     "output_type": "execute_result"
    }
   ],
   "source": [
    "df_ref_greenhouse_final['Tair'].describe()"
   ]
  },
  {
   "cell_type": "code",
   "execution_count": 156,
   "id": "8ca7c690",
   "metadata": {},
   "outputs": [
    {
     "name": "stderr",
     "output_type": "stream",
     "text": [
      "/tmp/ipykernel_10331/3037071832.py:5: SettingWithCopyWarning: \n",
      "A value is trying to be set on a copy of a slice from a DataFrame.\n",
      "Try using .loc[row_indexer,col_indexer] = value instead\n",
      "\n",
      "See the caveats in the documentation: https://pandas.pydata.org/pandas-docs/stable/user_guide/indexing.html#returning-a-view-versus-a-copy\n",
      "  df_ref_greenhouse_final['Rhair'] = df_ref_greenhouse_final['Rhair'].fillna(rhair_mean)\n"
     ]
    }
   ],
   "source": [
    "#Check Nan\n",
    "df_ref_greenhouse_final.Rhair.isna().sum()\n",
    "#Replace Nan with Mean \n",
    "rhair_mean = df_ref_greenhouse_final['Rhair'].mean()\n",
    "df_ref_greenhouse_final['Rhair'] = df_ref_greenhouse_final['Rhair'].fillna(rhair_mean)"
   ]
  },
  {
   "cell_type": "code",
   "execution_count": 193,
   "id": "7e836123",
   "metadata": {},
   "outputs": [
    {
     "data": {
      "text/plain": [
       "0"
      ]
     },
     "execution_count": 193,
     "metadata": {},
     "output_type": "execute_result"
    }
   ],
   "source": [
    "#Check for Nan\n",
    "df_ref_greenhouse_final.Cum_irr.isna().sum()\n"
   ]
  },
  {
   "cell_type": "code",
   "execution_count": 163,
   "id": "cccafd83",
   "metadata": {},
   "outputs": [
    {
     "name": "stderr",
     "output_type": "stream",
     "text": [
      "/tmp/ipykernel_10331/2265043098.py:3: SettingWithCopyWarning: \n",
      "A value is trying to be set on a copy of a slice from a DataFrame.\n",
      "Try using .loc[row_indexer,col_indexer] = value instead\n",
      "\n",
      "See the caveats in the documentation: https://pandas.pydata.org/pandas-docs/stable/user_guide/indexing.html#returning-a-view-versus-a-copy\n",
      "  df_ref_greenhouse_final['Tair'] = df_ref_greenhouse_final['Tair'].fillna(Tair_mean)\n",
      "/tmp/ipykernel_10331/2265043098.py:6: SettingWithCopyWarning: \n",
      "A value is trying to be set on a copy of a slice from a DataFrame.\n",
      "Try using .loc[row_indexer,col_indexer] = value instead\n",
      "\n",
      "See the caveats in the documentation: https://pandas.pydata.org/pandas-docs/stable/user_guide/indexing.html#returning-a-view-versus-a-copy\n",
      "  df_ref_greenhouse_final['Rhair'] = df_ref_greenhouse_final['Rhair'].fillna(rhair_mean)\n",
      "/tmp/ipykernel_10331/2265043098.py:9: SettingWithCopyWarning: \n",
      "A value is trying to be set on a copy of a slice from a DataFrame.\n",
      "Try using .loc[row_indexer,col_indexer] = value instead\n",
      "\n",
      "See the caveats in the documentation: https://pandas.pydata.org/pandas-docs/stable/user_guide/indexing.html#returning-a-view-versus-a-copy\n",
      "  df_ref_greenhouse_final['CO2air'] = df_ref_greenhouse_final['CO2air'].fillna(CO2air_mean)\n",
      "/tmp/ipykernel_10331/2265043098.py:12: SettingWithCopyWarning: \n",
      "A value is trying to be set on a copy of a slice from a DataFrame.\n",
      "Try using .loc[row_indexer,col_indexer] = value instead\n",
      "\n",
      "See the caveats in the documentation: https://pandas.pydata.org/pandas-docs/stable/user_guide/indexing.html#returning-a-view-versus-a-copy\n",
      "  df_ref_greenhouse_final['water_sup'] = df_ref_greenhouse_final['water_sup'].fillna(water_sup_mean)\n",
      "/tmp/ipykernel_10331/2265043098.py:15: SettingWithCopyWarning: \n",
      "A value is trying to be set on a copy of a slice from a DataFrame.\n",
      "Try using .loc[row_indexer,col_indexer] = value instead\n",
      "\n",
      "See the caveats in the documentation: https://pandas.pydata.org/pandas-docs/stable/user_guide/indexing.html#returning-a-view-versus-a-copy\n",
      "  df_ref_greenhouse_final['Cum_irr'] = df_ref_greenhouse_final['Cum_irr'].fillna(Cum_irr_mean)\n",
      "/tmp/ipykernel_10331/2265043098.py:18: SettingWithCopyWarning: \n",
      "A value is trying to be set on a copy of a slice from a DataFrame.\n",
      "Try using .loc[row_indexer,col_indexer] = value instead\n",
      "\n",
      "See the caveats in the documentation: https://pandas.pydata.org/pandas-docs/stable/user_guide/indexing.html#returning-a-view-versus-a-copy\n",
      "  df_ref_greenhouse_final['Tot_PAR'] = df_ref_greenhouse_final['Tot_PAR'].fillna(Tot_PAR_mean)\n"
     ]
    }
   ],
   "source": [
    "#Replace Nans with Mean \n",
    "Tair_mean = df_ref_greenhouse_final['Tair'].mean()\n",
    "df_ref_greenhouse_final['Tair'] = df_ref_greenhouse_final['Tair'].fillna(Tair_mean)\n",
    "\n",
    "rhair_mean = df_ref_greenhouse_final['Rhair'].mean()\n",
    "df_ref_greenhouse_final['Rhair'] = df_ref_greenhouse_final['Rhair'].fillna(rhair_mean)\n",
    "\n",
    "CO2air_mean = df_ref_greenhouse_final['CO2air'].mean()\n",
    "df_ref_greenhouse_final['CO2air'] = df_ref_greenhouse_final['CO2air'].fillna(CO2air_mean)\n",
    "\n",
    "water_sup_mean = df_ref_greenhouse_final['water_sup'].mean()\n",
    "df_ref_greenhouse_final['water_sup'] = df_ref_greenhouse_final['water_sup'].fillna(water_sup_mean)\n",
    "\n",
    "Cum_irr_mean = df_ref_greenhouse_final['Cum_irr'].mean()\n",
    "df_ref_greenhouse_final['Cum_irr'] = df_ref_greenhouse_final['Cum_irr'].fillna(Cum_irr_mean)\n",
    "\n",
    "Tot_PAR_mean = df_ref_greenhouse_final['Tot_PAR'].mean()\n",
    "df_ref_greenhouse_final['Tot_PAR'] = df_ref_greenhouse_final['Tot_PAR'].fillna(Tot_PAR_mean)\n"
   ]
  },
  {
   "cell_type": "markdown",
   "id": "44ad6897",
   "metadata": {},
   "source": [
    "ADF tests the following null hypothesis:\n",
    "\n",
    "H\n",
    "0\n",
    " : The series is not-stationary\n",
    " \n",
    " A p-value close to 0 (e.g. p < 0.05) indicates stationarity\n",
    "\n"
   ]
  },
  {
   "cell_type": "code",
   "execution_count": 63,
   "id": "b992df3e",
   "metadata": {
    "scrolled": true
   },
   "outputs": [
    {
     "data": {
      "text/plain": [
       "count    47738.000000\n",
       "mean        81.756069\n",
       "std         11.619726\n",
       "min        -22.200000\n",
       "25%         78.700000\n",
       "50%         85.300000\n",
       "75%         89.200000\n",
       "max         99.200000\n",
       "Name: Rhair, dtype: float64"
      ]
     },
     "execution_count": 63,
     "metadata": {},
     "output_type": "execute_result"
    }
   ],
   "source": [
    "df_ref_greenhouse_final['Rhair'].describe()"
   ]
  },
  {
   "cell_type": "code",
   "execution_count": 185,
   "id": "98894a7e",
   "metadata": {},
   "outputs": [
    {
     "name": "stdout",
     "output_type": "stream",
     "text": [
      "0.0\n",
      "Tair is Stationary\n"
     ]
    }
   ],
   "source": [
    "from statsmodels.tsa.stattools import adfuller\n",
    "\n",
    "print(adfuller(df_ref_greenhouse_final['Tair'])[1])\n",
    "print('Tair is Stationary')"
   ]
  },
  {
   "cell_type": "markdown",
   "id": "0a2deb45",
   "metadata": {},
   "source": [
    "Now we are ready to run ADF Test on our variables. Our Null Hypothesis H0 is Not Stationary. "
   ]
  },
  {
   "cell_type": "code",
   "execution_count": 210,
   "id": "2eb5c54c",
   "metadata": {},
   "outputs": [
    {
     "data": {
      "text/plain": [
       "0.0"
      ]
     },
     "execution_count": 210,
     "metadata": {},
     "output_type": "execute_result"
    }
   ],
   "source": [
    "result = adfuller(df_ref_greenhouse_final['Tair'].values, autolag='AIC')\n",
    "result[1]\n"
   ]
  },
  {
   "cell_type": "code",
   "execution_count": 169,
   "id": "bf116dbe",
   "metadata": {},
   "outputs": [
    {
     "name": "stdout",
     "output_type": "stream",
     "text": [
      "3.541387554137435e-29\n",
      "Rhair is Stationary\n"
     ]
    }
   ],
   "source": [
    "print(adfuller(df_ref_greenhouse_final.Rhair)[1])\n",
    "print('Rhair is Stationary')"
   ]
  },
  {
   "cell_type": "code",
   "execution_count": 171,
   "id": "54f43392",
   "metadata": {},
   "outputs": [
    {
     "name": "stdout",
     "output_type": "stream",
     "text": [
      "0.0\n",
      "CO2air is Stationary\n"
     ]
    }
   ],
   "source": [
    "print(adfuller(df_ref_greenhouse_final.CO2air)[1])\n",
    "print('CO2air is Stationary')"
   ]
  },
  {
   "cell_type": "code",
   "execution_count": 173,
   "id": "435187d0",
   "metadata": {},
   "outputs": [
    {
     "name": "stdout",
     "output_type": "stream",
     "text": [
      "0.0\n",
      "Water_sup is Stationary\n"
     ]
    }
   ],
   "source": [
    "print(adfuller(df_ref_greenhouse_final.water_sup)[1])\n",
    "print('Water_sup is Stationary')"
   ]
  },
  {
   "cell_type": "code",
   "execution_count": null,
   "id": "ba155efe",
   "metadata": {},
   "outputs": [],
   "source": [
    "print(adfuller(df_ref_greenhouse_final.CO2air))\n",
    "print('CO2air is Stationary')[1]\n"
   ]
  },
  {
   "cell_type": "code",
   "execution_count": 181,
   "id": "e5695b60",
   "metadata": {},
   "outputs": [
    {
     "name": "stdout",
     "output_type": "stream",
     "text": [
      "0.0\n",
      "Cum_irr is Stationary\n"
     ]
    }
   ],
   "source": [
    "print(adfuller(df_ref_greenhouse_final.Cum_irr)[1])\n",
    "print('Cum_irr is Stationary')"
   ]
  },
  {
   "cell_type": "code",
   "execution_count": 182,
   "id": "80a20591",
   "metadata": {},
   "outputs": [
    {
     "name": "stdout",
     "output_type": "stream",
     "text": [
      "0.0\n",
      "Tot_PAR is Stationary\n"
     ]
    }
   ],
   "source": [
    "print(adfuller(df_ref_greenhouse_final.Tot_PAR)[1])\n",
    "print('Tot_PAR is Stationary')"
   ]
  },
  {
   "cell_type": "code",
   "execution_count": 205,
   "id": "9bb574f5",
   "metadata": {},
   "outputs": [
    {
     "name": "stderr",
     "output_type": "stream",
     "text": [
      "/tmp/ipykernel_10331/3276346126.py:1: FutureWarning: The default value of numeric_only in DataFrame.corr is deprecated. In a future version, it will default to False. Select only valid columns or specify the value of numeric_only to silence this warning.\n",
      "  dataplot = sns.heatmap(df_ref_greenhouse_final.corr(), cmap=\"YlGnBu\", annot=True)\n"
     ]
    },
    {
     "data": {
      "image/png": "[encoded data removed]",
      "text/plain": [
       "<Figure size 432x288 with 2 Axes>"
      ]
     },
     "metadata": {
      "needs_background": "light"
     },
     "output_type": "display_data"
    }
   ],
   "source": []
  },
  {
   "cell_type": "code",
   "execution_count": null,
   "id": "1275dde5",
   "metadata": {},
   "outputs": [],
   "source": []
  },
  {
   "cell_type": "code",
   "execution_count": 211,
   "id": "fcb99856",
   "metadata": {},
   "outputs": [
    {
     "data": {
      "text/plain": [
       "Index(['datetime', 'Tair', 'Rhair', 'CO2air', 'water_sup', 'Cum_irr',\n",
       "       'Tot_PAR'],\n",
       "      dtype='object')"
      ]
     },
     "execution_count": 211,
     "metadata": {},
     "output_type": "execute_result"
    }
   ],
   "source": [
    "df_ref_greenhouse_final.columns"
   ]
  },
  {
   "cell_type": "code",
   "execution_count": 216,
   "id": "06c27669",
   "metadata": {},
   "outputs": [
    {
     "data": {
      "image/png": "[encoded data removed]",
      "text/plain": [
       "<Figure size 1920x600 with 1 Axes>"
      ]
     },
     "metadata": {
      "needs_background": "light"
     },
     "output_type": "display_data"
    }
   ],
   "source": [
    "x = df_ref_greenhouse_final['datetime'].values\n",
    "y1 = df_ref_greenhouse_final['Cum_irr'].values\n",
    "# Plot\n",
    "fig, ax = plt.subplots(1, 1, figsize=(16,5), dpi= 120)\n",
    "plt.fill_between(x, y1=y1, y2=-y1, alpha=0.5, linewidth=2, color='seagreen')\n",
    "plt.ylim(-800, 800)\n",
    "plt.title('Air Passengers (Two Side View)', fontsize=16)\n",
    "plt.hlines(y=0, xmin=np.min(df_ref_greenhouse_final['datetime']), xmax=np.max(df_ref_greenhouse_final['datetime']), linewidth=.5)\n",
    "plt.show()"
   ]
  },
  {
   "cell_type": "code",
   "execution_count": null,
   "id": "ad321507",
   "metadata": {},
   "outputs": [],
   "source": []
  },
  {
   "cell_type": "code",
   "execution_count": null,
   "id": "dc9c55a6",
   "metadata": {},
   "outputs": [],
   "source": []
  },
  {
   "cell_type": "code",
   "execution_count": 200,
   "id": "6bbdb9aa",
   "metadata": {},
   "outputs": [
    {
     "data": {
      "text/plain": [
       "6469"
      ]
     },
     "execution_count": 200,
     "metadata": {},
     "output_type": "execute_result"
    }
   ],
   "source": [
    "df_ref_greenhouse_final['Cum_irr'].isin([0]).sum()\n",
    "\n",
    "    "
   ]
  },
  {
   "cell_type": "code",
   "execution_count": 198,
   "id": "3cca9ba7",
   "metadata": {},
   "outputs": [
    {
     "data": {
      "text/plain": [
       "0        0.400000\n",
       "1        0.500000\n",
       "2        0.500000\n",
       "3        0.500000\n",
       "4        0.500000\n",
       "           ...   \n",
       "47804    1.600000\n",
       "47805    1.600000\n",
       "47806    1.600000\n",
       "47807    1.600000\n",
       "47808    2.820851\n",
       "Name: Cum_irr, Length: 47809, dtype: float64"
      ]
     },
     "execution_count": 198,
     "metadata": {},
     "output_type": "execute_result"
    }
   ],
   "source": [
    "adf_ref_greenhouse_final['Cum_irr']\n",
    "\n"
   ]
  },
  {
   "cell_type": "code",
   "execution_count": 203,
   "id": "afefc729",
   "metadata": {},
   "outputs": [
    {
     "ename": "ValueError",
     "evalue": "You must specify a period or x must be a pandas object with a PeriodIndex or a DatetimeIndex with a freq not set to None",
     "output_type": "error",
     "traceback": [
      "\u001b[0;31m---------------------------------------------------------------------------\u001b[0m",
      "\u001b[0;31mValueError\u001b[0m                                Traceback (most recent call last)",
      "\u001b[0;32m/tmp/ipykernel_10331/4234101742.py\u001b[0m in \u001b[0;36m<module>\u001b[0;34m\u001b[0m\n\u001b[1;32m      3\u001b[0m \u001b[0;34m\u001b[0m\u001b[0m\n\u001b[1;32m      4\u001b[0m \u001b[0;31m# Additive Decomposition\u001b[0m\u001b[0;34m\u001b[0m\u001b[0;34m\u001b[0m\u001b[0;34m\u001b[0m\u001b[0m\n\u001b[0;32m----> 5\u001b[0;31m \u001b[0mresult_add\u001b[0m \u001b[0;34m=\u001b[0m \u001b[0mseasonal_decompose\u001b[0m\u001b[0;34m(\u001b[0m\u001b[0mdf_ref_greenhouse_final\u001b[0m\u001b[0;34m[\u001b[0m\u001b[0;34m'Cum_irr'\u001b[0m\u001b[0;34m]\u001b[0m\u001b[0;34m,\u001b[0m \u001b[0mmodel\u001b[0m\u001b[0;34m=\u001b[0m\u001b[0;34m'additive'\u001b[0m\u001b[0;34m,\u001b[0m \u001b[0mextrapolate_trend\u001b[0m\u001b[0;34m=\u001b[0m\u001b[0;34m'freq'\u001b[0m\u001b[0;34m)\u001b[0m\u001b[0;34m\u001b[0m\u001b[0;34m\u001b[0m\u001b[0m\n\u001b[0m\u001b[1;32m      6\u001b[0m \u001b[0;34m\u001b[0m\u001b[0m\n\u001b[1;32m      7\u001b[0m \u001b[0;31m# Plot\u001b[0m\u001b[0;34m\u001b[0m\u001b[0;34m\u001b[0m\u001b[0;34m\u001b[0m\u001b[0m\n",
      "\u001b[0;32m~/.pyenv/versions/3.8.12/envs/lewagon/lib/python3.8/site-packages/statsmodels/tsa/seasonal.py\u001b[0m in \u001b[0;36mseasonal_decompose\u001b[0;34m(x, model, filt, period, two_sided, extrapolate_trend)\u001b[0m\n\u001b[1;32m    157\u001b[0m             \u001b[0mperiod\u001b[0m \u001b[0;34m=\u001b[0m \u001b[0mpfreq\u001b[0m\u001b[0;34m\u001b[0m\u001b[0;34m\u001b[0m\u001b[0m\n\u001b[1;32m    158\u001b[0m         \u001b[0;32melse\u001b[0m\u001b[0;34m:\u001b[0m\u001b[0;34m\u001b[0m\u001b[0;34m\u001b[0m\u001b[0m\n\u001b[0;32m--> 159\u001b[0;31m             raise ValueError(\n\u001b[0m\u001b[1;32m    160\u001b[0m                 \u001b[0;34m\"You must specify a period or x must be a pandas object with \"\u001b[0m\u001b[0;34m\u001b[0m\u001b[0;34m\u001b[0m\u001b[0m\n\u001b[1;32m    161\u001b[0m                 \u001b[0;34m\"a PeriodIndex or a DatetimeIndex with a freq not set to None\"\u001b[0m\u001b[0;34m\u001b[0m\u001b[0;34m\u001b[0m\u001b[0m\n",
      "\u001b[0;31mValueError\u001b[0m: You must specify a period or x must be a pandas object with a PeriodIndex or a DatetimeIndex with a freq not set to None"
     ]
    }
   ],
   "source": [
    "from statsmodels.tsa.seasonal import seasonal_decompose\n",
    "from dateutil.parser import parse\n",
    "\n",
    "# Additive Decomposition\n",
    "result_add = seasonal_decompose(df_ref_greenhouse_final['Cum_irr'], model='additive', extrapolate_trend='freq')\n",
    "\n",
    "# Plot\n",
    "plt.rcParams.update({'figure.figsize': (10,10)})\n",
    "result_add.plot().suptitle('Additive Decompose', fontsize=22)\n",
    "plt.show()"
   ]
  },
  {
   "cell_type": "code",
   "execution_count": null,
   "id": "f7833502",
   "metadata": {},
   "outputs": [],
   "source": []
  },
  {
   "cell_type": "code",
   "execution_count": null,
   "id": "de28daca",
   "metadata": {},
   "outputs": [],
   "source": []
  },
  {
   "cell_type": "code",
   "execution_count": 73,
   "id": "294142cb",
   "metadata": {},
   "outputs": [
    {
     "data": {
      "image/png": "[encoded data removed]",
      "text/plain": [
       "<Figure size 432x288 with 1 Axes>"
      ]
     },
     "execution_count": 73,
     "metadata": {},
     "output_type": "execute_result"
    },
    {
     "data": {
      "image/png": "[encoded data removed]",
      "text/plain": [
       "<Figure size 432x288 with 1 Axes>"
      ]
     },
     "metadata": {
      "needs_background": "light"
     },
     "output_type": "display_data"
    }
   ],
   "source": [
    "from statsmodels.graphics.tsaplots import plot_acf\n",
    "plot_acf(df_ref_greenhouse_final.Rhair, lags=50)\n"
   ]
  },
  {
   "cell_type": "code",
   "execution_count": 74,
   "id": "6210cefc",
   "metadata": {},
   "outputs": [
    {
     "name": "stderr",
     "output_type": "stream",
     "text": [
      "/home/proctor/.pyenv/versions/3.8.12/envs/lewagon/lib/python3.8/site-packages/statsmodels/graphics/tsaplots.py:348: FutureWarning: The default method 'yw' can produce PACF values outside of the [-1,1] interval. After 0.13, the default will change tounadjusted Yule-Walker ('ywm'). You can use this method now by setting method='ywm'.\n",
      "  warnings.warn(\n"
     ]
    },
    {
     "data": {
      "image/png": "[encoded data removed]",
      "text/plain": [
       "<Figure size 432x288 with 1 Axes>"
      ]
     },
     "metadata": {
      "needs_background": "light"
     },
     "output_type": "display_data"
    }
   ],
   "source": [
    "from statsmodels.graphics.tsaplots import plot_pacf\n",
    "\n",
    "plot_pacf(df_ref_greenhouse_final.Rhair, lags=50, c='r');"
   ]
  },
  {
   "cell_type": "code",
   "execution_count": 70,
   "id": "70b23a8c",
   "metadata": {},
   "outputs": [
    {
     "ename": "NameError",
     "evalue": "name 'result_add' is not defined",
     "output_type": "error",
     "traceback": [
      "\u001b[0;31m---------------------------------------------------------------------------\u001b[0m",
      "\u001b[0;31mNameError\u001b[0m                                 Traceback (most recent call last)",
      "\u001b[0;32m/tmp/ipykernel_10331/3585898413.py\u001b[0m in \u001b[0;36m<module>\u001b[0;34m\u001b[0m\n\u001b[0;32m----> 1\u001b[0;31m \u001b[0mprint\u001b[0m\u001b[0;34m(\u001b[0m\u001b[0;34m'additive resid: '\u001b[0m\u001b[0;34m,\u001b[0m \u001b[0madfuller\u001b[0m\u001b[0;34m(\u001b[0m\u001b[0mresult_add\u001b[0m\u001b[0;34m.\u001b[0m\u001b[0mresid\u001b[0m\u001b[0;34m.\u001b[0m\u001b[0mdropna\u001b[0m\u001b[0;34m(\u001b[0m\u001b[0;34m)\u001b[0m\u001b[0;34m)\u001b[0m\u001b[0;34m[\u001b[0m\u001b[0;36m1\u001b[0m\u001b[0;34m]\u001b[0m\u001b[0;34m)\u001b[0m\u001b[0;34m\u001b[0m\u001b[0;34m\u001b[0m\u001b[0m\n\u001b[0m\u001b[1;32m      2\u001b[0m \u001b[0mprint\u001b[0m\u001b[0;34m(\u001b[0m\u001b[0;34m'multiplicative resid: '\u001b[0m\u001b[0;34m,\u001b[0m \u001b[0madfuller\u001b[0m\u001b[0;34m(\u001b[0m\u001b[0mresult_mul\u001b[0m\u001b[0;34m.\u001b[0m\u001b[0mresid\u001b[0m\u001b[0;34m.\u001b[0m\u001b[0mdropna\u001b[0m\u001b[0;34m(\u001b[0m\u001b[0;34m)\u001b[0m\u001b[0;34m)\u001b[0m\u001b[0;34m[\u001b[0m\u001b[0;36m1\u001b[0m\u001b[0;34m]\u001b[0m\u001b[0;34m)\u001b[0m\u001b[0;34m\u001b[0m\u001b[0;34m\u001b[0m\u001b[0m\n",
      "\u001b[0;31mNameError\u001b[0m: name 'result_add' is not defined"
     ]
    }
   ],
   "source": [
    "print('additive resid: ', adfuller(result_add.resid.dropna())[1])\n",
    "print('multiplicative resid: ', adfuller(result_mul.resid.dropna())[1])"
   ]
  },
  {
   "cell_type": "code",
   "execution_count": 46,
   "id": "1843deda",
   "metadata": {},
   "outputs": [
    {
     "data": {
      "text/plain": [
       "<AxesSubplot:>"
      ]
     },
     "execution_count": 46,
     "metadata": {},
     "output_type": "execute_result"
    },
    {
     "data": {
      "image/png": "[encoded data removed]",
      "text/plain": [
       "<Figure size 1080x288 with 1 Axes>"
      ]
     },
     "metadata": {
      "needs_background": "light"
     },
     "output_type": "display_data"
    }
   ],
   "source": [
    "df_ref_greenhouse_final['Tair'].plot(figsize=(15,4))"
   ]
  },
  {
   "cell_type": "code",
   "execution_count": null,
   "id": "9df59b3c",
   "metadata": {},
   "outputs": [],
   "source": []
  },
  {
   "cell_type": "code",
   "execution_count": null,
   "id": "841ba763",
   "metadata": {},
   "outputs": [],
   "source": []
  },
  {
   "cell_type": "code",
   "execution_count": null,
   "id": "0745b048",
   "metadata": {},
   "outputs": [],
   "source": []
  },
  {
   "cell_type": "code",
   "execution_count": null,
   "id": "2efa5935",
   "metadata": {},
   "outputs": [],
   "source": []
  },
  {
   "cell_type": "code",
   "execution_count": 9,
   "id": "cbdeb2e5",
   "metadata": {
    "scrolled": true
   },
   "outputs": [
    {
     "data": {
      "text/html": [
       "<div>\n",
       "<style scoped>\n",
       "    .dataframe tbody tr th:only-of-type {\n",
       "        vertical-align: middle;\n",
       "    }\n",
       "\n",
       "    .dataframe tbody tr th {\n",
       "        vertical-align: top;\n",
       "    }\n",
       "\n",
       "    .dataframe thead th {\n",
       "        text-align: right;\n",
       "    }\n",
       "</style>\n",
       "<table border=\"1\" class=\"dataframe\">\n",
       "  <thead>\n",
       "    <tr style=\"text-align: right;\">\n",
       "      <th></th>\n",
       "      <th>%time</th>\n",
       "      <th>AssimLight</th>\n",
       "      <th>BlackScr</th>\n",
       "      <th>CO2air</th>\n",
       "      <th>Cum_irr</th>\n",
       "      <th>EC_drain_PC</th>\n",
       "      <th>EnScr</th>\n",
       "      <th>HumDef</th>\n",
       "      <th>PipeGrow</th>\n",
       "      <th>PipeLow</th>\n",
       "      <th>...</th>\n",
       "      <th>t_rail_min_vip</th>\n",
       "      <th>t_vent_sp</th>\n",
       "      <th>t_ventlee_vip</th>\n",
       "      <th>t_ventwind_vip</th>\n",
       "      <th>water_sup</th>\n",
       "      <th>water_sup_intervals_sp_min</th>\n",
       "      <th>water_sup_intervals_vip_min</th>\n",
       "      <th>window_pos_lee_sp</th>\n",
       "      <th>window_pos_lee_vip</th>\n",
       "      <th>datetime</th>\n",
       "    </tr>\n",
       "  </thead>\n",
       "  <tbody>\n",
       "    <tr>\n",
       "      <th>0</th>\n",
       "      <td>43815.00000</td>\n",
       "      <td>0</td>\n",
       "      <td>35</td>\n",
       "      <td>472</td>\n",
       "      <td>0.4</td>\n",
       "      <td>4.0</td>\n",
       "      <td>100</td>\n",
       "      <td>7.2</td>\n",
       "      <td>0.0</td>\n",
       "      <td>45.2</td>\n",
       "      <td>...</td>\n",
       "      <td>0.0</td>\n",
       "      <td>NaN</td>\n",
       "      <td>25.0</td>\n",
       "      <td>26.0</td>\n",
       "      <td>4.0</td>\n",
       "      <td>NaN</td>\n",
       "      <td>1000</td>\n",
       "      <td>NaN</td>\n",
       "      <td>1.2</td>\n",
       "      <td>2019-12-16 00:00:00.000000000</td>\n",
       "    </tr>\n",
       "    <tr>\n",
       "      <th>1</th>\n",
       "      <td>43815.00347</td>\n",
       "      <td>0</td>\n",
       "      <td>85</td>\n",
       "      <td>501</td>\n",
       "      <td>0.5</td>\n",
       "      <td>4.0</td>\n",
       "      <td>100</td>\n",
       "      <td>6.9</td>\n",
       "      <td>0.0</td>\n",
       "      <td>43.6</td>\n",
       "      <td>...</td>\n",
       "      <td>0.0</td>\n",
       "      <td>NaN</td>\n",
       "      <td>25.0</td>\n",
       "      <td>26.0</td>\n",
       "      <td>6.0</td>\n",
       "      <td>NaN</td>\n",
       "      <td>1000</td>\n",
       "      <td>NaN</td>\n",
       "      <td>1.2</td>\n",
       "      <td>2019-12-16 00:04:59.808000256</td>\n",
       "    </tr>\n",
       "    <tr>\n",
       "      <th>2</th>\n",
       "      <td>43815.00694</td>\n",
       "      <td>0</td>\n",
       "      <td>96</td>\n",
       "      <td>489</td>\n",
       "      <td>0.5</td>\n",
       "      <td>4.0</td>\n",
       "      <td>100</td>\n",
       "      <td>7.2</td>\n",
       "      <td>0.0</td>\n",
       "      <td>42.3</td>\n",
       "      <td>...</td>\n",
       "      <td>0.0</td>\n",
       "      <td>NaN</td>\n",
       "      <td>25.0</td>\n",
       "      <td>26.0</td>\n",
       "      <td>6.0</td>\n",
       "      <td>NaN</td>\n",
       "      <td>1000</td>\n",
       "      <td>NaN</td>\n",
       "      <td>1.2</td>\n",
       "      <td>2019-12-16 00:09:59.616000000</td>\n",
       "    </tr>\n",
       "    <tr>\n",
       "      <th>3</th>\n",
       "      <td>43815.01042</td>\n",
       "      <td>0</td>\n",
       "      <td>96</td>\n",
       "      <td>497</td>\n",
       "      <td>0.5</td>\n",
       "      <td>4.0</td>\n",
       "      <td>100</td>\n",
       "      <td>6.7</td>\n",
       "      <td>0.0</td>\n",
       "      <td>41.2</td>\n",
       "      <td>...</td>\n",
       "      <td>0.0</td>\n",
       "      <td>NaN</td>\n",
       "      <td>25.0</td>\n",
       "      <td>26.0</td>\n",
       "      <td>6.0</td>\n",
       "      <td>NaN</td>\n",
       "      <td>1000</td>\n",
       "      <td>NaN</td>\n",
       "      <td>1.2</td>\n",
       "      <td>2019-12-16 00:15:00.288000000</td>\n",
       "    </tr>\n",
       "    <tr>\n",
       "      <th>4</th>\n",
       "      <td>43815.01389</td>\n",
       "      <td>0</td>\n",
       "      <td>96</td>\n",
       "      <td>477</td>\n",
       "      <td>0.5</td>\n",
       "      <td>4.0</td>\n",
       "      <td>100</td>\n",
       "      <td>6.7</td>\n",
       "      <td>0.0</td>\n",
       "      <td>41.2</td>\n",
       "      <td>...</td>\n",
       "      <td>0.0</td>\n",
       "      <td>NaN</td>\n",
       "      <td>25.0</td>\n",
       "      <td>26.0</td>\n",
       "      <td>6.0</td>\n",
       "      <td>NaN</td>\n",
       "      <td>1000</td>\n",
       "      <td>NaN</td>\n",
       "      <td>1.2</td>\n",
       "      <td>2019-12-16 00:20:00.096000256</td>\n",
       "    </tr>\n",
       "  </tbody>\n",
       "</table>\n",
       "<p>5 rows × 51 columns</p>\n",
       "</div>"
      ],
      "text/plain": [
       "         %time AssimLight BlackScr CO2air Cum_irr EC_drain_PC EnScr HumDef  \\\n",
       "0  43815.00000          0       35    472     0.4         4.0   100    7.2   \n",
       "1  43815.00347          0       85    501     0.5         4.0   100    6.9   \n",
       "2  43815.00694          0       96    489     0.5         4.0   100    7.2   \n",
       "3  43815.01042          0       96    497     0.5         4.0   100    6.7   \n",
       "4  43815.01389          0       96    477     0.5         4.0   100    6.7   \n",
       "\n",
       "  PipeGrow PipeLow  ... t_rail_min_vip t_vent_sp t_ventlee_vip  \\\n",
       "0      0.0    45.2  ...            0.0       NaN          25.0   \n",
       "1      0.0    43.6  ...            0.0       NaN          25.0   \n",
       "2      0.0    42.3  ...            0.0       NaN          25.0   \n",
       "3      0.0    41.2  ...            0.0       NaN          25.0   \n",
       "4      0.0    41.2  ...            0.0       NaN          25.0   \n",
       "\n",
       "   t_ventwind_vip water_sup water_sup_intervals_sp_min  \\\n",
       "0            26.0       4.0                        NaN   \n",
       "1            26.0       6.0                        NaN   \n",
       "2            26.0       6.0                        NaN   \n",
       "3            26.0       6.0                        NaN   \n",
       "4            26.0       6.0                        NaN   \n",
       "\n",
       "  water_sup_intervals_vip_min window_pos_lee_sp window_pos_lee_vip  \\\n",
       "0                        1000               NaN                1.2   \n",
       "1                        1000               NaN                1.2   \n",
       "2                        1000               NaN                1.2   \n",
       "3                        1000               NaN                1.2   \n",
       "4                        1000               NaN                1.2   \n",
       "\n",
       "                       datetime  \n",
       "0 2019-12-16 00:00:00.000000000  \n",
       "1 2019-12-16 00:04:59.808000256  \n",
       "2 2019-12-16 00:09:59.616000000  \n",
       "3 2019-12-16 00:15:00.288000000  \n",
       "4 2019-12-16 00:20:00.096000256  \n",
       "\n",
       "[5 rows x 51 columns]"
      ]
     },
     "execution_count": 9,
     "metadata": {},
     "output_type": "execute_result"
    }
   ],
   "source": [
    "df_ref_greenhouse = df_ref_greenhouse.sort_values(by='%time',ascending=True)\n",
    "df_ref_greenhouse.head()"
   ]
  },
  {
   "cell_type": "code",
   "execution_count": null,
   "id": "40e8e995",
   "metadata": {},
   "outputs": [],
   "source": [
    "df_ref_greenhouse[] "
   ]
  },
  {
   "cell_type": "code",
   "execution_count": 46,
   "id": "f979ad8a",
   "metadata": {},
   "outputs": [],
   "source": [
    "df_ref_greenhouse.to_csv('reference_greenshouse.csv')"
   ]
  },
  {
   "cell_type": "code",
   "execution_count": 14,
   "id": "886a53b6",
   "metadata": {
    "scrolled": false
   },
   "outputs": [
    {
     "data": {
      "text/html": [
       "<div>\n",
       "<style scoped>\n",
       "    .dataframe tbody tr th:only-of-type {\n",
       "        vertical-align: middle;\n",
       "    }\n",
       "\n",
       "    .dataframe tbody tr th {\n",
       "        vertical-align: top;\n",
       "    }\n",
       "\n",
       "    .dataframe thead th {\n",
       "        text-align: right;\n",
       "    }\n",
       "</style>\n",
       "<table border=\"1\" class=\"dataframe\">\n",
       "  <thead>\n",
       "    <tr style=\"text-align: right;\">\n",
       "      <th></th>\n",
       "      <th>%time</th>\n",
       "      <th>ProdA</th>\n",
       "      <th>ProdB</th>\n",
       "      <th>avg_nr_harvested_trusses</th>\n",
       "      <th>Truss development time</th>\n",
       "      <th>Nr_fruits_ClassA</th>\n",
       "      <th>Weight_fruits_ClassA</th>\n",
       "      <th>Nr_fruits_ClassB</th>\n",
       "      <th>Weight_fruits_ClassB</th>\n",
       "    </tr>\n",
       "  </thead>\n",
       "  <tbody>\n",
       "    <tr>\n",
       "      <th>0</th>\n",
       "      <td>43510</td>\n",
       "      <td>0.32</td>\n",
       "      <td>0.0000</td>\n",
       "      <td>NaN</td>\n",
       "      <td>45</td>\n",
       "      <td>NaN</td>\n",
       "      <td>717.0</td>\n",
       "      <td>0</td>\n",
       "      <td>0</td>\n",
       "    </tr>\n",
       "    <tr>\n",
       "      <th>1</th>\n",
       "      <td>43880</td>\n",
       "      <td>0.32</td>\n",
       "      <td>0.0022</td>\n",
       "      <td>1.0</td>\n",
       "      <td>45</td>\n",
       "      <td>NaN</td>\n",
       "      <td>964.0</td>\n",
       "      <td>0</td>\n",
       "      <td>0</td>\n",
       "    </tr>\n",
       "    <tr>\n",
       "      <th>2</th>\n",
       "      <td>43885</td>\n",
       "      <td>0.72</td>\n",
       "      <td>0.0000</td>\n",
       "      <td>0.6</td>\n",
       "      <td>47</td>\n",
       "      <td>82.0</td>\n",
       "      <td>655.0</td>\n",
       "      <td>0</td>\n",
       "      <td>0</td>\n",
       "    </tr>\n",
       "    <tr>\n",
       "      <th>3</th>\n",
       "      <td>43889</td>\n",
       "      <td>0.40</td>\n",
       "      <td>0.0000</td>\n",
       "      <td>1.2</td>\n",
       "      <td>48</td>\n",
       "      <td>199.0</td>\n",
       "      <td>1468.0</td>\n",
       "      <td>0</td>\n",
       "      <td>0</td>\n",
       "    </tr>\n",
       "    <tr>\n",
       "      <th>4</th>\n",
       "      <td>43894</td>\n",
       "      <td>0.34</td>\n",
       "      <td>0.0000</td>\n",
       "      <td>0.3</td>\n",
       "      <td>49</td>\n",
       "      <td>45.0</td>\n",
       "      <td>361.0</td>\n",
       "      <td>0</td>\n",
       "      <td>0</td>\n",
       "    </tr>\n",
       "  </tbody>\n",
       "</table>\n",
       "</div>"
      ],
      "text/plain": [
       "   %time  ProdA   ProdB  avg_nr_harvested_trusses  Truss development time   \\\n",
       "0  43510   0.32  0.0000                       NaN                       45   \n",
       "1  43880   0.32  0.0022                       1.0                       45   \n",
       "2  43885   0.72  0.0000                       0.6                       47   \n",
       "3  43889   0.40  0.0000                       1.2                       48   \n",
       "4  43894   0.34  0.0000                       0.3                       49   \n",
       "\n",
       "   Nr_fruits_ClassA  Weight_fruits_ClassA  Nr_fruits_ClassB  \\\n",
       "0               NaN                 717.0                 0   \n",
       "1               NaN                 964.0                 0   \n",
       "2              82.0                 655.0                 0   \n",
       "3             199.0                1468.0                 0   \n",
       "4              45.0                 361.0                 0   \n",
       "\n",
       "   Weight_fruits_ClassB  \n",
       "0                     0  \n",
       "1                     0  \n",
       "2                     0  \n",
       "3                     0  \n",
       "4                     0  "
      ]
     },
     "execution_count": 14,
     "metadata": {},
     "output_type": "execute_result"
    }
   ],
   "source": [
    "df_ref_production = pd.read_csv('Reference/Reference/Production.csv')\n"
   ]
  },
  {
   "cell_type": "code",
   "execution_count": 16,
   "id": "ecfce3c7",
   "metadata": {},
   "outputs": [],
   "source": [
    "df_ref_production['datetime'] = pd.to_datetime(df_ref_production['%time'], unit='D', origin='1899-12-30')"
   ]
  },
  {
   "cell_type": "code",
   "execution_count": 17,
   "id": "535dfbbf",
   "metadata": {
    "scrolled": true
   },
   "outputs": [
    {
     "data": {
      "text/html": [
       "<div>\n",
       "<style scoped>\n",
       "    .dataframe tbody tr th:only-of-type {\n",
       "        vertical-align: middle;\n",
       "    }\n",
       "\n",
       "    .dataframe tbody tr th {\n",
       "        vertical-align: top;\n",
       "    }\n",
       "\n",
       "    .dataframe thead th {\n",
       "        text-align: right;\n",
       "    }\n",
       "</style>\n",
       "<table border=\"1\" class=\"dataframe\">\n",
       "  <thead>\n",
       "    <tr style=\"text-align: right;\">\n",
       "      <th></th>\n",
       "      <th>%time</th>\n",
       "      <th>ProdA</th>\n",
       "      <th>ProdB</th>\n",
       "      <th>avg_nr_harvested_trusses</th>\n",
       "      <th>Truss development time</th>\n",
       "      <th>Nr_fruits_ClassA</th>\n",
       "      <th>Weight_fruits_ClassA</th>\n",
       "      <th>Nr_fruits_ClassB</th>\n",
       "      <th>Weight_fruits_ClassB</th>\n",
       "      <th>datetime</th>\n",
       "    </tr>\n",
       "  </thead>\n",
       "  <tbody>\n",
       "    <tr>\n",
       "      <th>0</th>\n",
       "      <td>43510</td>\n",
       "      <td>0.32</td>\n",
       "      <td>0.0000</td>\n",
       "      <td>NaN</td>\n",
       "      <td>45</td>\n",
       "      <td>NaN</td>\n",
       "      <td>717.0</td>\n",
       "      <td>0</td>\n",
       "      <td>0</td>\n",
       "      <td>2019-02-14</td>\n",
       "    </tr>\n",
       "    <tr>\n",
       "      <th>1</th>\n",
       "      <td>43880</td>\n",
       "      <td>0.32</td>\n",
       "      <td>0.0022</td>\n",
       "      <td>1.0</td>\n",
       "      <td>45</td>\n",
       "      <td>NaN</td>\n",
       "      <td>964.0</td>\n",
       "      <td>0</td>\n",
       "      <td>0</td>\n",
       "      <td>2020-02-19</td>\n",
       "    </tr>\n",
       "    <tr>\n",
       "      <th>2</th>\n",
       "      <td>43885</td>\n",
       "      <td>0.72</td>\n",
       "      <td>0.0000</td>\n",
       "      <td>0.6</td>\n",
       "      <td>47</td>\n",
       "      <td>82.0</td>\n",
       "      <td>655.0</td>\n",
       "      <td>0</td>\n",
       "      <td>0</td>\n",
       "      <td>2020-02-24</td>\n",
       "    </tr>\n",
       "    <tr>\n",
       "      <th>3</th>\n",
       "      <td>43889</td>\n",
       "      <td>0.40</td>\n",
       "      <td>0.0000</td>\n",
       "      <td>1.2</td>\n",
       "      <td>48</td>\n",
       "      <td>199.0</td>\n",
       "      <td>1468.0</td>\n",
       "      <td>0</td>\n",
       "      <td>0</td>\n",
       "      <td>2020-02-28</td>\n",
       "    </tr>\n",
       "    <tr>\n",
       "      <th>4</th>\n",
       "      <td>43894</td>\n",
       "      <td>0.34</td>\n",
       "      <td>0.0000</td>\n",
       "      <td>0.3</td>\n",
       "      <td>49</td>\n",
       "      <td>45.0</td>\n",
       "      <td>361.0</td>\n",
       "      <td>0</td>\n",
       "      <td>0</td>\n",
       "      <td>2020-03-04</td>\n",
       "    </tr>\n",
       "  </tbody>\n",
       "</table>\n",
       "</div>"
      ],
      "text/plain": [
       "   %time  ProdA   ProdB  avg_nr_harvested_trusses  Truss development time   \\\n",
       "0  43510   0.32  0.0000                       NaN                       45   \n",
       "1  43880   0.32  0.0022                       1.0                       45   \n",
       "2  43885   0.72  0.0000                       0.6                       47   \n",
       "3  43889   0.40  0.0000                       1.2                       48   \n",
       "4  43894   0.34  0.0000                       0.3                       49   \n",
       "\n",
       "   Nr_fruits_ClassA  Weight_fruits_ClassA  Nr_fruits_ClassB  \\\n",
       "0               NaN                 717.0                 0   \n",
       "1               NaN                 964.0                 0   \n",
       "2              82.0                 655.0                 0   \n",
       "3             199.0                1468.0                 0   \n",
       "4              45.0                 361.0                 0   \n",
       "\n",
       "   Weight_fruits_ClassB   datetime  \n",
       "0                     0 2019-02-14  \n",
       "1                     0 2020-02-19  \n",
       "2                     0 2020-02-24  \n",
       "3                     0 2020-02-28  \n",
       "4                     0 2020-03-04  "
      ]
     },
     "execution_count": 17,
     "metadata": {},
     "output_type": "execute_result"
    }
   ],
   "source": [
    "df_ref_production.head()"
   ]
  },
  {
   "cell_type": "code",
   "execution_count": 48,
   "id": "6630b77e",
   "metadata": {},
   "outputs": [],
   "source": [
    "df_ref_production.to_csv('reference_production.csv')"
   ]
  },
  {
   "cell_type": "code",
   "execution_count": 15,
   "id": "e03d15bf",
   "metadata": {},
   "outputs": [
    {
     "name": "stdout",
     "output_type": "stream",
     "text": [
      "<class 'pandas.core.frame.DataFrame'>\n",
      "RangeIndex: 24 entries, 0 to 23\n",
      "Data columns (total 9 columns):\n",
      " #   Column                    Non-Null Count  Dtype  \n",
      "---  ------                    --------------  -----  \n",
      " 0   %time                     24 non-null     int64  \n",
      " 1   ProdA                     24 non-null     float64\n",
      " 2   ProdB                     24 non-null     float64\n",
      " 3   avg_nr_harvested_trusses  23 non-null     float64\n",
      " 4   Truss development time    24 non-null     int64  \n",
      " 5   Nr_fruits_ClassA          22 non-null     float64\n",
      " 6   Weight_fruits_ClassA      24 non-null     float64\n",
      " 7   Nr_fruits_ClassB          24 non-null     int64  \n",
      " 8   Weight_fruits_ClassB      24 non-null     int64  \n",
      "dtypes: float64(5), int64(4)\n",
      "memory usage: 1.8 KB\n"
     ]
    }
   ],
   "source": [
    "df_ref_production.info()"
   ]
  },
  {
   "cell_type": "code",
   "execution_count": 26,
   "id": "f95f407d",
   "metadata": {
    "scrolled": true
   },
   "outputs": [
    {
     "name": "stderr",
     "output_type": "stream",
     "text": [
      "/tmp/ipykernel_24027/1984336414.py:1: FutureWarning: Treating datetime data as categorical rather than numeric in `.describe` is deprecated and will be removed in a future version of pandas. Specify `datetime_is_numeric=True` to silence this warning and adopt the future behavior now.\n",
      "  df_ref_production['datetime'].describe()\n"
     ]
    },
    {
     "data": {
      "text/plain": [
       "count                      24\n",
       "unique                     24\n",
       "top       2019-02-14 00:00:00\n",
       "freq                        1\n",
       "first     2019-02-14 00:00:00\n",
       "last      2020-05-29 00:00:00\n",
       "Name: datetime, dtype: object"
      ]
     },
     "execution_count": 26,
     "metadata": {},
     "output_type": "execute_result"
    }
   ],
   "source": [
    "df_ref_production['datetime'].describe()\n"
   ]
  },
  {
   "cell_type": "code",
   "execution_count": 41,
   "id": "1500e497",
   "metadata": {
    "scrolled": true
   },
   "outputs": [
    {
     "name": "stderr",
     "output_type": "stream",
     "text": [
      "/tmp/ipykernel_24027/3761246920.py:1: DtypeWarning: Columns (1,2,3,4,5,6,7,8,9,10,11,12,14,15,17,18,20,22,23,25,27,29,31,33,35,37,39,41,43,44,45,47,49) have mixed types. Specify dtype option on import or set low_memory=False.\n",
      "  df_greenhouse_ref_original = pd.read_csv('GreenhouseClimate_original.csv')\n"
     ]
    },
    {
     "data": {
      "text/html": [
       "<div>\n",
       "<style scoped>\n",
       "    .dataframe tbody tr th:only-of-type {\n",
       "        vertical-align: middle;\n",
       "    }\n",
       "\n",
       "    .dataframe tbody tr th {\n",
       "        vertical-align: top;\n",
       "    }\n",
       "\n",
       "    .dataframe thead th {\n",
       "        text-align: right;\n",
       "    }\n",
       "</style>\n",
       "<table border=\"1\" class=\"dataframe\">\n",
       "  <thead>\n",
       "    <tr style=\"text-align: right;\">\n",
       "      <th></th>\n",
       "      <th>%time</th>\n",
       "      <th>AssimLight</th>\n",
       "      <th>BlackScr</th>\n",
       "      <th>CO2air</th>\n",
       "      <th>Cum_irr</th>\n",
       "      <th>EC_drain_PC</th>\n",
       "      <th>EnScr</th>\n",
       "      <th>HumDef</th>\n",
       "      <th>PipeGrow</th>\n",
       "      <th>PipeLow</th>\n",
       "      <th>...</th>\n",
       "      <th>t_rail_min_sp</th>\n",
       "      <th>t_rail_min_vip</th>\n",
       "      <th>t_vent_sp</th>\n",
       "      <th>t_ventlee_vip</th>\n",
       "      <th>t_ventwind_vip</th>\n",
       "      <th>water_sup</th>\n",
       "      <th>water_sup_intervals_sp_min</th>\n",
       "      <th>water_sup_intervals_vip_min</th>\n",
       "      <th>window_pos_lee_sp</th>\n",
       "      <th>window_pos_lee_vip</th>\n",
       "    </tr>\n",
       "  </thead>\n",
       "  <tbody>\n",
       "    <tr>\n",
       "      <th>0</th>\n",
       "      <td>43815.00000</td>\n",
       "      <td>0</td>\n",
       "      <td>35</td>\n",
       "      <td>472</td>\n",
       "      <td>0.4</td>\n",
       "      <td>4.0</td>\n",
       "      <td>100</td>\n",
       "      <td>7.2</td>\n",
       "      <td>0.0</td>\n",
       "      <td>45.2</td>\n",
       "      <td>...</td>\n",
       "      <td>NaN</td>\n",
       "      <td>0.0</td>\n",
       "      <td>NaN</td>\n",
       "      <td>25.0</td>\n",
       "      <td>26.0</td>\n",
       "      <td>4.0</td>\n",
       "      <td>NaN</td>\n",
       "      <td>1000</td>\n",
       "      <td>NaN</td>\n",
       "      <td>1.2</td>\n",
       "    </tr>\n",
       "    <tr>\n",
       "      <th>1</th>\n",
       "      <td>43815.00347</td>\n",
       "      <td>0</td>\n",
       "      <td>85</td>\n",
       "      <td>501</td>\n",
       "      <td>0.5</td>\n",
       "      <td>4.0</td>\n",
       "      <td>100</td>\n",
       "      <td>6.9</td>\n",
       "      <td>0.0</td>\n",
       "      <td>43.6</td>\n",
       "      <td>...</td>\n",
       "      <td>NaN</td>\n",
       "      <td>0.0</td>\n",
       "      <td>NaN</td>\n",
       "      <td>25.0</td>\n",
       "      <td>26.0</td>\n",
       "      <td>6.0</td>\n",
       "      <td>NaN</td>\n",
       "      <td>1000</td>\n",
       "      <td>NaN</td>\n",
       "      <td>1.2</td>\n",
       "    </tr>\n",
       "    <tr>\n",
       "      <th>2</th>\n",
       "      <td>43815.00694</td>\n",
       "      <td>0</td>\n",
       "      <td>96</td>\n",
       "      <td>489</td>\n",
       "      <td>0.5</td>\n",
       "      <td>4.0</td>\n",
       "      <td>100</td>\n",
       "      <td>7.2</td>\n",
       "      <td>0.0</td>\n",
       "      <td>42.3</td>\n",
       "      <td>...</td>\n",
       "      <td>NaN</td>\n",
       "      <td>0.0</td>\n",
       "      <td>NaN</td>\n",
       "      <td>25.0</td>\n",
       "      <td>26.0</td>\n",
       "      <td>6.0</td>\n",
       "      <td>NaN</td>\n",
       "      <td>1000</td>\n",
       "      <td>NaN</td>\n",
       "      <td>1.2</td>\n",
       "    </tr>\n",
       "    <tr>\n",
       "      <th>3</th>\n",
       "      <td>43815.01042</td>\n",
       "      <td>0</td>\n",
       "      <td>96</td>\n",
       "      <td>497</td>\n",
       "      <td>0.5</td>\n",
       "      <td>4.0</td>\n",
       "      <td>100</td>\n",
       "      <td>6.7</td>\n",
       "      <td>0.0</td>\n",
       "      <td>41.2</td>\n",
       "      <td>...</td>\n",
       "      <td>NaN</td>\n",
       "      <td>0.0</td>\n",
       "      <td>NaN</td>\n",
       "      <td>25.0</td>\n",
       "      <td>26.0</td>\n",
       "      <td>6.0</td>\n",
       "      <td>NaN</td>\n",
       "      <td>1000</td>\n",
       "      <td>NaN</td>\n",
       "      <td>1.2</td>\n",
       "    </tr>\n",
       "    <tr>\n",
       "      <th>4</th>\n",
       "      <td>43815.01389</td>\n",
       "      <td>0</td>\n",
       "      <td>96</td>\n",
       "      <td>477</td>\n",
       "      <td>0.5</td>\n",
       "      <td>4.0</td>\n",
       "      <td>100</td>\n",
       "      <td>6.7</td>\n",
       "      <td>0.0</td>\n",
       "      <td>41.2</td>\n",
       "      <td>...</td>\n",
       "      <td>NaN</td>\n",
       "      <td>0.0</td>\n",
       "      <td>NaN</td>\n",
       "      <td>25.0</td>\n",
       "      <td>26.0</td>\n",
       "      <td>6.0</td>\n",
       "      <td>NaN</td>\n",
       "      <td>1000</td>\n",
       "      <td>NaN</td>\n",
       "      <td>1.2</td>\n",
       "    </tr>\n",
       "    <tr>\n",
       "      <th>...</th>\n",
       "      <td>...</td>\n",
       "      <td>...</td>\n",
       "      <td>...</td>\n",
       "      <td>...</td>\n",
       "      <td>...</td>\n",
       "      <td>...</td>\n",
       "      <td>...</td>\n",
       "      <td>...</td>\n",
       "      <td>...</td>\n",
       "      <td>...</td>\n",
       "      <td>...</td>\n",
       "      <td>...</td>\n",
       "      <td>...</td>\n",
       "      <td>...</td>\n",
       "      <td>...</td>\n",
       "      <td>...</td>\n",
       "      <td>...</td>\n",
       "      <td>...</td>\n",
       "      <td>...</td>\n",
       "      <td>...</td>\n",
       "      <td>...</td>\n",
       "    </tr>\n",
       "    <tr>\n",
       "      <th>47804</th>\n",
       "      <td>43980.98611</td>\n",
       "      <td>0</td>\n",
       "      <td>0</td>\n",
       "      <td>461</td>\n",
       "      <td>1.6</td>\n",
       "      <td>10.4</td>\n",
       "      <td>0</td>\n",
       "      <td>2.7</td>\n",
       "      <td>0.0</td>\n",
       "      <td>0.0</td>\n",
       "      <td>...</td>\n",
       "      <td>0.0</td>\n",
       "      <td>0.0</td>\n",
       "      <td>18.0</td>\n",
       "      <td>18.0</td>\n",
       "      <td>20.0</td>\n",
       "      <td>18.0</td>\n",
       "      <td>NaN</td>\n",
       "      <td>30</td>\n",
       "      <td>0.0</td>\n",
       "      <td>0.0</td>\n",
       "    </tr>\n",
       "    <tr>\n",
       "      <th>47805</th>\n",
       "      <td>43980.98958</td>\n",
       "      <td>0</td>\n",
       "      <td>0</td>\n",
       "      <td>466</td>\n",
       "      <td>1.6</td>\n",
       "      <td>10.3</td>\n",
       "      <td>0</td>\n",
       "      <td>2.5</td>\n",
       "      <td>0.0</td>\n",
       "      <td>0.0</td>\n",
       "      <td>...</td>\n",
       "      <td>0.0</td>\n",
       "      <td>0.0</td>\n",
       "      <td>18.0</td>\n",
       "      <td>18.0</td>\n",
       "      <td>20.0</td>\n",
       "      <td>18.0</td>\n",
       "      <td>NaN</td>\n",
       "      <td>30</td>\n",
       "      <td>0.0</td>\n",
       "      <td>0.0</td>\n",
       "    </tr>\n",
       "    <tr>\n",
       "      <th>47806</th>\n",
       "      <td>43980.99306</td>\n",
       "      <td>0</td>\n",
       "      <td>0</td>\n",
       "      <td>474</td>\n",
       "      <td>1.6</td>\n",
       "      <td>10.3</td>\n",
       "      <td>5</td>\n",
       "      <td>2.5</td>\n",
       "      <td>0.0</td>\n",
       "      <td>0.0</td>\n",
       "      <td>...</td>\n",
       "      <td>0.0</td>\n",
       "      <td>0.0</td>\n",
       "      <td>18.0</td>\n",
       "      <td>18.0</td>\n",
       "      <td>20.0</td>\n",
       "      <td>18.0</td>\n",
       "      <td>NaN</td>\n",
       "      <td>30</td>\n",
       "      <td>0.0</td>\n",
       "      <td>0.0</td>\n",
       "    </tr>\n",
       "    <tr>\n",
       "      <th>47807</th>\n",
       "      <td>43980.99653</td>\n",
       "      <td>0</td>\n",
       "      <td>0</td>\n",
       "      <td>476</td>\n",
       "      <td>1.6</td>\n",
       "      <td>10.3</td>\n",
       "      <td>5</td>\n",
       "      <td>2.4</td>\n",
       "      <td>0.0</td>\n",
       "      <td>0.0</td>\n",
       "      <td>...</td>\n",
       "      <td>0.0</td>\n",
       "      <td>0.0</td>\n",
       "      <td>18.0</td>\n",
       "      <td>18.0</td>\n",
       "      <td>20.0</td>\n",
       "      <td>18.0</td>\n",
       "      <td>NaN</td>\n",
       "      <td>30</td>\n",
       "      <td>0.0</td>\n",
       "      <td>0.0</td>\n",
       "    </tr>\n",
       "    <tr>\n",
       "      <th>47808</th>\n",
       "      <td>43981.00000</td>\n",
       "      <td>NaN</td>\n",
       "      <td>NaN</td>\n",
       "      <td>NaN</td>\n",
       "      <td>NaN</td>\n",
       "      <td>NaN</td>\n",
       "      <td>NaN</td>\n",
       "      <td>NaN</td>\n",
       "      <td>NaN</td>\n",
       "      <td>NaN</td>\n",
       "      <td>...</td>\n",
       "      <td>0.0</td>\n",
       "      <td>NaN</td>\n",
       "      <td>18.0</td>\n",
       "      <td>NaN</td>\n",
       "      <td>NaN</td>\n",
       "      <td>NaN</td>\n",
       "      <td>NaN</td>\n",
       "      <td>NaN</td>\n",
       "      <td>0.0</td>\n",
       "      <td>NaN</td>\n",
       "    </tr>\n",
       "  </tbody>\n",
       "</table>\n",
       "<p>47809 rows × 50 columns</p>\n",
       "</div>"
      ],
      "text/plain": [
       "             %time AssimLight BlackScr CO2air Cum_irr EC_drain_PC EnScr  \\\n",
       "0      43815.00000          0       35    472     0.4         4.0   100   \n",
       "1      43815.00347          0       85    501     0.5         4.0   100   \n",
       "2      43815.00694          0       96    489     0.5         4.0   100   \n",
       "3      43815.01042          0       96    497     0.5         4.0   100   \n",
       "4      43815.01389          0       96    477     0.5         4.0   100   \n",
       "...            ...        ...      ...    ...     ...         ...   ...   \n",
       "47804  43980.98611          0        0    461     1.6        10.4     0   \n",
       "47805  43980.98958          0        0    466     1.6        10.3     0   \n",
       "47806  43980.99306          0        0    474     1.6        10.3     5   \n",
       "47807  43980.99653          0        0    476     1.6        10.3     5   \n",
       "47808  43981.00000        NaN      NaN    NaN     NaN         NaN   NaN   \n",
       "\n",
       "      HumDef PipeGrow PipeLow  ... t_rail_min_sp t_rail_min_vip t_vent_sp  \\\n",
       "0        7.2      0.0    45.2  ...           NaN            0.0       NaN   \n",
       "1        6.9      0.0    43.6  ...           NaN            0.0       NaN   \n",
       "2        7.2      0.0    42.3  ...           NaN            0.0       NaN   \n",
       "3        6.7      0.0    41.2  ...           NaN            0.0       NaN   \n",
       "4        6.7      0.0    41.2  ...           NaN            0.0       NaN   \n",
       "...      ...      ...     ...  ...           ...            ...       ...   \n",
       "47804    2.7      0.0     0.0  ...           0.0            0.0      18.0   \n",
       "47805    2.5      0.0     0.0  ...           0.0            0.0      18.0   \n",
       "47806    2.5      0.0     0.0  ...           0.0            0.0      18.0   \n",
       "47807    2.4      0.0     0.0  ...           0.0            0.0      18.0   \n",
       "47808    NaN      NaN     NaN  ...           0.0            NaN      18.0   \n",
       "\n",
       "       t_ventlee_vip t_ventwind_vip water_sup water_sup_intervals_sp_min  \\\n",
       "0               25.0           26.0       4.0                        NaN   \n",
       "1               25.0           26.0       6.0                        NaN   \n",
       "2               25.0           26.0       6.0                        NaN   \n",
       "3               25.0           26.0       6.0                        NaN   \n",
       "4               25.0           26.0       6.0                        NaN   \n",
       "...              ...            ...       ...                        ...   \n",
       "47804           18.0           20.0      18.0                        NaN   \n",
       "47805           18.0           20.0      18.0                        NaN   \n",
       "47806           18.0           20.0      18.0                        NaN   \n",
       "47807           18.0           20.0      18.0                        NaN   \n",
       "47808            NaN            NaN       NaN                        NaN   \n",
       "\n",
       "      water_sup_intervals_vip_min window_pos_lee_sp window_pos_lee_vip  \n",
       "0                            1000               NaN                1.2  \n",
       "1                            1000               NaN                1.2  \n",
       "2                            1000               NaN                1.2  \n",
       "3                            1000               NaN                1.2  \n",
       "4                            1000               NaN                1.2  \n",
       "...                           ...               ...                ...  \n",
       "47804                          30               0.0                0.0  \n",
       "47805                          30               0.0                0.0  \n",
       "47806                          30               0.0                0.0  \n",
       "47807                          30               0.0                0.0  \n",
       "47808                         NaN               0.0                NaN  \n",
       "\n",
       "[47809 rows x 50 columns]"
      ]
     },
     "execution_count": 41,
     "metadata": {},
     "output_type": "execute_result"
    }
   ],
   "source": [
    "df_greenhouse_ref_original = pd.read_csv('GreenhouseClimate_original.csv')\n",
    "df_greenhouse_ref_original"
   ]
  },
  {
   "cell_type": "code",
   "execution_count": 44,
   "id": "12f005b6",
   "metadata": {
    "scrolled": true
   },
   "outputs": [
    {
     "name": "stdout",
     "output_type": "stream",
     "text": [
      "<class 'pandas.core.frame.DataFrame'>\n",
      "RangeIndex: 47809 entries, 0 to 47808\n",
      "Data columns (total 50 columns):\n",
      " #   Column                       Non-Null Count  Dtype  \n",
      "---  ------                       --------------  -----  \n",
      " 0   %time                        47809 non-null  float64\n",
      " 1   AssimLight                   47809 non-null  object \n",
      " 2   BlackScr                     47809 non-null  object \n",
      " 3   CO2air                       47809 non-null  object \n",
      " 4   Cum_irr                      47809 non-null  object \n",
      " 5   EC_drain_PC                  47809 non-null  object \n",
      " 6   EnScr                        47809 non-null  object \n",
      " 7   HumDef                       47809 non-null  object \n",
      " 8   PipeGrow                     47809 non-null  object \n",
      " 9   PipeLow                      47809 non-null  object \n",
      " 10  Rhair                        47809 non-null  object \n",
      " 11  Tair                         47809 non-null  object \n",
      " 12  Tot_PAR                      47809 non-null  object \n",
      " 13  Tot_PAR_Lamps                47809 non-null  int64  \n",
      " 14  VentLee                      47809 non-null  object \n",
      " 15  Ventwind                     47809 non-null  object \n",
      " 16  assim_sp                     47809 non-null  object \n",
      " 17  assim_vip                    47809 non-null  object \n",
      " 18  co2_dos                      47809 non-null  object \n",
      " 19  co2_sp                       47809 non-null  object \n",
      " 20  co2_vip                      47809 non-null  object \n",
      " 21  dx_sp                        47809 non-null  object \n",
      " 22  dx_vip                       47809 non-null  object \n",
      " 23  int_blue_sp                  47809 non-null  object \n",
      " 24  int_blue_vip                 47809 non-null  object \n",
      " 25  int_farred_sp                47809 non-null  object \n",
      " 26  int_farred_vip               47809 non-null  object \n",
      " 27  int_red_sp                   47809 non-null  object \n",
      " 28  int_red_vip                  47809 non-null  object \n",
      " 29  int_white_sp                 47809 non-null  object \n",
      " 30  int_white_vip                47809 non-null  object \n",
      " 31  pH_drain_PC                  47809 non-null  object \n",
      " 32  scr_blck_sp                  47809 non-null  object \n",
      " 33  scr_blck_vip                 47809 non-null  object \n",
      " 34  scr_enrg_sp                  47809 non-null  object \n",
      " 35  scr_enrg_vip                 47809 non-null  object \n",
      " 36  t_grow_min_sp                47809 non-null  object \n",
      " 37  t_grow_min_vip               47809 non-null  object \n",
      " 38  t_heat_sp                    47809 non-null  object \n",
      " 39  t_heat_vip                   47809 non-null  object \n",
      " 40  t_rail_min_sp                47809 non-null  object \n",
      " 41  t_rail_min_vip               47809 non-null  object \n",
      " 42  t_vent_sp                    47809 non-null  object \n",
      " 43  t_ventlee_vip                47809 non-null  object \n",
      " 44  t_ventwind_vip               47809 non-null  object \n",
      " 45  water_sup                    47809 non-null  object \n",
      " 46  water_sup_intervals_sp_min   47809 non-null  object \n",
      " 47  water_sup_intervals_vip_min  47809 non-null  object \n",
      " 48  window_pos_lee_sp            47809 non-null  object \n",
      " 49  window_pos_lee_vip           47809 non-null  object \n",
      "dtypes: float64(1), int64(1), object(48)\n",
      "memory usage: 18.2+ MB\n"
     ]
    }
   ],
   "source": [
    "df_greenhouse_ref_original.info()"
   ]
  }
 ],
 "metadata": {
  "kernelspec": {
   "display_name": "Python 3 (ipykernel)",
   "language": "python",
   "name": "python3"
  },
  "language_info": {
   "codemirror_mode": {
    "name": "ipython",
    "version": 3
   },
   "file_extension": ".py",
   "mimetype": "text/x-python",
   "name": "python",
   "nbconvert_exporter": "python",
   "pygments_lexer": "ipython3",
   "version": "3.8.12"
  },
  "toc": {
   "base_numbering": 1,
   "nav_menu": {},
   "number_sections": true,
   "sideBar": true,
   "skip_h1_title": true,
   "title_cell": "Table of Contents",
   "title_sidebar": "Contents",
   "toc_cell": false,
   "toc_position": {},
   "toc_section_display": true,
   "toc_window_display": false
  }
 },
 "nbformat": 4,
 "nbformat_minor": 5
}
